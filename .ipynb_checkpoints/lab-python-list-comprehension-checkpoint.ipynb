{
 "cells": [
  {
   "cell_type": "markdown",
   "id": "25d7736c-ba17-4aff-b6bb-66eba20fbf4e",
   "metadata": {},
   "source": [
    "# Lab | List, Dict and Set Comprehension"
   ]
  },
  {
   "cell_type": "markdown",
   "id": "7dd3cbde-675a-4b81-92c3-f728846dbe06",
   "metadata": {},
   "source": [
    "## Exercise: Managing Customer Orders Optimized with Comprehension"
   ]
  },
  {
   "cell_type": "markdown",
   "id": "5d500160-2fb7-4777-b5e4-09d45ebaf328",
   "metadata": {},
   "source": [
    "In the previous exercise, you developed a program to manage customer orders and inventory. Now, let's take it a step further and incorporate comprehension into your code.\n",
    "\n",
    "Follow the steps below to complete the exercise:\n",
    "\n",
    "1. Review your code from the previous exercise and identify areas where you can apply comprehension to simplify and streamline your code. \n",
    "\n",
    "    - *Hint: Apply it to initialize inventory, updating the inventory and printing the updated inventory.*\n",
    "    \n",
    "    - For example, in initializing the inventory, we could have:\n",
    "    \n",
    "        ```python\n",
    "        def initialize_inventory(products):\n",
    "            inventory = {product: int(input(f\"Enter the quantity of {product}s available: \")) for product in products}\n",
    "            return inventory\n",
    "\n",
    "        ```\n",
    "<br>\n",
    "    \n",
    "    \n",
    "2. Modify the function get_customer_orders so it prompts the user to enter the number of customer orders and gathers the product names using a loop and user input. Use comprehension.\n",
    "\n",
    "3. Add a new function to calculate the total price of the customer order. For each product in customer_orders, prompt the user to enter the price of that product. Use comprehension to calculate the total price. Note: assume that the user can only have 1 unit of each product.\n",
    "\n",
    "4. Modify the update_inventory function to remove the product from the inventory if its quantity becomes zero after fulfilling the customer orders. Use comprehension to filter out the products with a quantity of zero from the inventory.\n",
    "\n",
    "5. Print the total price of the customer order.\n",
    "\n",
    "Your code should produce output similar to the following:\n",
    "\n",
    "```python\n",
    "Enter the quantity of t-shirts available:  5\n",
    "Enter the quantity of mugs available:  4\n",
    "Enter the quantity of hats available:  3\n",
    "Enter the quantity of books available:  2\n",
    "Enter the quantity of keychains available:  1\n",
    "Enter the number of customer orders:  2\n",
    "Enter the name of a product that a customer wants to order:  hat\n",
    "Enter the name of a product that a customer wants to order:  keychain\n",
    "\n",
    "Order Statistics:\n",
    "Total Products Ordered: 2\n",
    "Percentage of Unique Products Ordered: 40.0\n",
    "\n",
    "Updated Inventory:\n",
    "t-shirt: 5\n",
    "mug: 4\n",
    "hat: 2\n",
    "book: 2\n",
    "Enter the price of keychain:  5\n",
    "Enter the price of hat:  10\n",
    "Total Price: 15.0\n",
    "\n",
    "```\n"
   ]
  },
  {
   "cell_type": "code",
   "execution_count": null,
   "id": "2b093d30",
   "metadata": {},
   "outputs": [],
   "source": [
    "#Review your code from the previous exercise and\n",
    "#identify areas where you can apply comprehension to simplify and streamline your code."
   ]
  },
  {
   "cell_type": "code",
   "execution_count": null,
   "id": "e542e0f5",
   "metadata": {},
   "outputs": [],
   "source": [
    "products = [\"t-shirt\", \"mug\", \"hat\", \"book\", \"keychain\"]\n",
    "inventory = {}\n",
    "\n",
    "# function defined as \"initialize_inventory\" that takes 'products' as a parameter\n",
    "def initialize_inventory(products):\n",
    "    \n",
    "    #since I want to input how many products are in the inventory, where am I going to store\n",
    "    # the values inputted? I need to create an empty dictionary. inventory {}.\n",
    "                #3 since this is dictionary comprehension each iterable will become a key. \n",
    "\n",
    "                #so my iterable is my key\n",
    "    inventory = {product: \n",
    "                 \n",
    "                 #2 how many are there?\n",
    "                 int(input(f\"Enter the quantity of {product}s available: \"))\n",
    "                 \n",
    "                 # 1. for each product in my products, i want to ask the user how many are there\n",
    "                 for product in products}\n",
    "    return inventory\n",
    "\n",
    "inventory = initialize_inventory(products)\n",
    "print(f\"my inventory: \", inventory)"
   ]
  },
  {
   "cell_type": "code",
   "execution_count": null,
   "id": "4189b135",
   "metadata": {},
   "outputs": [],
   "source": [
    "#Modify the function get_customer_orders so it prompts the user to enter the number of customer orders\n",
    "#and gathers the product names using a loop and user input. Use comprehension."
   ]
  },
  {
   "cell_type": "code",
   "execution_count": null,
   "id": "59fb4edf",
   "metadata": {},
   "outputs": [],
   "source": [
    "products = [\"t-shirt\", \"mug\", \"hat\", \"book\", \"keychain\"]\n",
    "\n",
    "def get_customer_orders():\n",
    "    \n",
    "    #define the number of orders\n",
    "    quant_orders = int(input(\"Enter the number of orders: \"))\n",
    "    \n",
    "    # obtain the product per order # what product:\n",
    "    return   {input(f\"enter product name for order: \") \n",
    "             #1 iterate over the number of orders to name each order with the product\n",
    "             for each in range(quant_orders)}\n",
    "\n",
    "\n",
    "customer_orders = get_customer_orders()\n",
    "print(customer_orders)\n",
    "type(customer_orders)"
   ]
  },
  {
   "cell_type": "code",
   "execution_count": null,
   "id": "b97954e0",
   "metadata": {},
   "outputs": [],
   "source": [
    "inventory"
   ]
  },
  {
   "cell_type": "code",
   "execution_count": null,
   "id": "798d172f",
   "metadata": {},
   "outputs": [],
   "source": [
    "customer_orders\n",
    "\n",
    "def calculate_order_statistics(x,y):\n",
    "    \n",
    "    totalcustorder = len(x)\n",
    "    a = sum(y.values())\n",
    "    popo = (totalcustorder/a)*100\n",
    "    poporounded = round(popo,2)\n",
    "    \n",
    "    return totalcustorder,poporounded\n",
    "\n",
    "calculate_order_statistics(customer_orders,inventory)\n",
    "    \n",
    "totalcustorder, popo = calculate_order_statistics(customer_orders,inventory)\n",
    "\n",
    "print(\"Order Statistics\")\n",
    "print(f\"Total Products Ordered: {totalcustorder}\") \n",
    "print(f\"Percentage of Products Ordered: {popo}\") \n",
    "    "
   ]
  },
  {
   "cell_type": "code",
   "execution_count": null,
   "id": "d289297b",
   "metadata": {},
   "outputs": [],
   "source": [
    "#Add a new function to calculate the total price of the customer order.\n",
    "#For each product in customer_orders, prompt the user to enter the price of that product.\n",
    "#Use comprehension to calculate the total price.\n",
    "#Note: assume that the user can only have 1 unit of each product."
   ]
  },
  {
   "cell_type": "code",
   "execution_count": null,
   "id": "015862cd",
   "metadata": {},
   "outputs": [],
   "source": [
    "def calculate_total_price(customer_orders):\n",
    "    \n",
    "            #we're calculating the total price of all products ordered by inputting a price\n",
    "            # 2  what's the price\n",
    "    return sum(float(input(f\"enter the price for {each}: $\")) \n",
    "               # 1 iterate over customer_orders because we need the price of each.\n",
    "               for each in customer_orders)\n",
    "\n",
    "total_price = calculate_total_price(customer_orders)\n",
    "total_price"
   ]
  },
  {
   "cell_type": "code",
   "execution_count": null,
   "id": "5516bb57",
   "metadata": {},
   "outputs": [],
   "source": [
    "#Modify the update_inventory function to remove the product from the inventory\n",
    "#if its quantity becomes zero after fulfilling the customer orders.\n",
    "#Use comprehension to filter out the products with a quantity of zero from the inventory."
   ]
  },
  {
   "cell_type": "code",
   "execution_count": null,
   "id": "4951b04e",
   "metadata": {},
   "outputs": [],
   "source": [
    "# to modify the update_inventory function to remove the product ORDERED from the inventory \n",
    "# if its quantity becomes zero after fulfilling the customer orders.\n",
    "# my inventory is a dictionary: product and quantity\n",
    "\n",
    "def update_inventory(x,y):\n",
    "    \n",
    "    # create a new dictionary that will hold my updated_inventory\n",
    "    # my quantity is the one that's changing\n",
    "    \n",
    "    y_new = {prod: \n",
    "             #subtract -1 if product is in the customer orders and the quantity is greater than 0\n",
    "             quant - 1 \n",
    "             if prod in x and quant > 0 else quant\n",
    "             # 1 for my product and quantity in my inventory \n",
    "             for prod, quant in y.items()}\n",
    "    return y_new\n",
    "\n",
    "update_inventory(customer_orders,inventory)"
   ]
  },
  {
   "cell_type": "code",
   "execution_count": null,
   "id": "a6cd1fb5",
   "metadata": {},
   "outputs": [],
   "source": [
    "#Print the total price of the customer order.\n"
   ]
  },
  {
   "cell_type": "code",
   "execution_count": null,
   "id": "40b0b953",
   "metadata": {},
   "outputs": [],
   "source": [
    "def print_total_price(total_price):\n",
    "    print(\"Total Price of Customer Order:\",\n",
    "          total_price)\n",
    "\n",
    "\n",
    "print_total_price(total_price)"
   ]
  },
  {
   "cell_type": "code",
   "execution_count": null,
   "id": "a3bd2e7d",
   "metadata": {},
   "outputs": [],
   "source": [
    "products = [\"t-shirt\", \"mug\", \"hat\", \"book\", \"keychain\"]\n",
    "\n",
    "initialize_inventory(products)\n",
    "\n",
    "customer_orders = get_customer_orders()\n",
    "\n",
    "calculate_order_statistics(customer_orders,inventory)\n",
    "totalcustorder, popo = calculate_order_statistics(customer_orders,inventory)\n",
    "print(\"Order Statistics\")\n",
    "print(f\"Total Products Ordered: {totalcustorder}\") \n",
    "print(f\"Percentage of Products Ordered: {popo}\")\n",
    "\n",
    "print(\"Updated Inventory: \")\n",
    "update_inventory(customer_orders,inventory)\n",
    "print_total_price(total_price)\n"
   ]
  }
 ],
 "metadata": {
  "kernelspec": {
   "display_name": "Python 3 (ipykernel)",
   "language": "python",
   "name": "python3"
  },
  "language_info": {
   "codemirror_mode": {
    "name": "ipython",
    "version": 3
   },
   "file_extension": ".py",
   "mimetype": "text/x-python",
   "name": "python",
   "nbconvert_exporter": "python",
   "pygments_lexer": "ipython3",
   "version": "3.11.5"
  }
 },
 "nbformat": 4,
 "nbformat_minor": 5
}
